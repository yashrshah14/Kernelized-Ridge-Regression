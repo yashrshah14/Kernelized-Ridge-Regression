{
 "cells": [
  {
   "cell_type": "code",
   "execution_count": null,
   "metadata": {
    "collapsed": true
   },
   "outputs": [],
   "source": [
    "import csv\n",
    "import numpy as np\n",
    "import math\n",
    "import matplotlib.pyplot as plt\n",
    "import scipy.optimize\n",
    "%matplotlib inline"
   ]
  },
  {
   "cell_type": "markdown",
   "metadata": {},
   "source": [
    "X = [X0(bias), X1, X2, X3, X4, X5, X6], six variables are used.\n",
    "Data is split into three parts: training set, validation set, and test set"
   ]
  },
  {
   "cell_type": "code",
   "execution_count": 2,
   "metadata": {
    "collapsed": true
   },
   "outputs": [],
   "source": [
    "X = np.ones([63, 7], dtype = np.float64)\n",
    "Y = np.ones([63], dtype = np.float64)"
   ]
  },
  {
   "cell_type": "code",
   "execution_count": 3,
   "metadata": {},
   "outputs": [
    {
     "name": "stdout",
     "output_type": "stream",
     "text": [
      "[ 1.     0.333  0.     0.333  0.333  0.     0.   ]\n",
      "0.164\n"
     ]
    }
   ],
   "source": [
    "# read data\n",
    "rowNum = 0\n",
    "with open('stock_portfolio_performance_data_set.csv') as csvDataFile:\n",
    "    csvReader = csv.reader(csvDataFile)\n",
    "    for row in csvReader:\n",
    "        if rowNum == 0:\n",
    "            rowNum += 1\n",
    "        else:\n",
    "            col = 0\n",
    "            colNum = 0\n",
    "            for col in row:\n",
    "                if colNum != 6:\n",
    "                    X[rowNum - 1, colNum + 1] = col\n",
    "                else:\n",
    "                    Y[rowNum - 1] = col\n",
    "                colNum += 1\n",
    "            rowNum += 1\n",
    "\n",
    "print (X[23,:])\n",
    "print (Y[23])"
   ]
  },
  {
   "cell_type": "code",
   "execution_count": 4,
   "metadata": {},
   "outputs": [
    {
     "name": "stdout",
     "output_type": "stream",
     "text": [
      "X.shape: (63, 7)\n",
      "Y.shape: (63,)\n",
      "X_train.shape (40, 7)\n",
      "X_validate.shape (10, 7)\n",
      "X_test.shape (13, 7)\n",
      "Y_train.shape (40,)\n",
      "Y_validate.shape (10,)\n",
      "Y_test.shape (13,)\n"
     ]
    }
   ],
   "source": [
    "num_train = int(math.floor(X.shape[0] * 0.64))\n",
    "num_validate = int(math.floor(X.shape[0] * 0.16))\n",
    "\n",
    "X_train = X[0 : num_train]\n",
    "X_validate = X[num_train : num_train + num_validate]\n",
    "X_test = X[num_train + num_validate : X.shape[0]]\n",
    "Y_train = Y[0 : num_train]\n",
    "Y_validate = Y[num_train : num_train + num_validate]\n",
    "Y_test = Y[num_train + num_validate : X.shape[0]]\n",
    "\n",
    "print ('X.shape:', X.shape)\n",
    "print ('Y.shape:', Y.shape)\n",
    "print ('X_train.shape', X_train.shape)\n",
    "print ('X_validate.shape', X_validate.shape)\n",
    "print ('X_test.shape', X_test.shape)\n",
    "print ('Y_train.shape', Y_train.shape)\n",
    "print ('Y_validate.shape', Y_validate.shape)\n",
    "print ('Y_test.shape', Y_test.shape)"
   ]
  },
  {
   "cell_type": "markdown",
   "metadata": {},
   "source": [
    "Linear Kernel Method"
   ]
  },
  {
   "cell_type": "code",
   "execution_count": 5,
   "metadata": {
    "collapsed": true
   },
   "outputs": [],
   "source": [
    "# To check if a matrix is a singular, if it's not a singular matrix, directly set lamda to zero, since we don't need lamda\n",
    "def isInvertible(inputMatrix):\n",
    "    return inputMatrix.shape[0] == inputMatrix.shape[1] and np.linalg.matrix_rank(inputMatrix) == inputMatrix.shape[0]"
   ]
  },
  {
   "cell_type": "code",
   "execution_count": 6,
   "metadata": {},
   "outputs": [
    {
     "ename": "SyntaxError",
     "evalue": "Missing parentheses in call to 'print' (<ipython-input-6-0e69af44b911>, line 10)",
     "traceback": [
      "\u001b[1;36m  File \u001b[1;32m\"<ipython-input-6-0e69af44b911>\"\u001b[1;36m, line \u001b[1;32m10\u001b[0m\n\u001b[1;33m    print 'k_x_xprime:\\n', k_x_xprime\u001b[0m\n\u001b[1;37m                        ^\u001b[0m\n\u001b[1;31mSyntaxError\u001b[0m\u001b[1;31m:\u001b[0m Missing parentheses in call to 'print'\n"
     ],
     "output_type": "error"
    }
   ],
   "source": [
    "def linear_kernel_predict(X_train, Y_train, X_test, lamda_param, isToy):\n",
    "    N = X_train.shape[0]\n",
    "    \n",
    "    Y_pred = np.empty([X_test.shape[0]])\n",
    "    \n",
    "    for idx in range(0, X_test.shape[0]):\n",
    "        # calculate k(x, x')\n",
    "        k_x_xprime = X_train.dot(X_test[idx, :].T)\n",
    "        if isToy:\n",
    "            print 'k_x_xprime:\\n', k_x_xprime\n",
    "\n",
    "        # calculate K = phi(x) * phi(x).T\n",
    "        K = X_train.dot(X_train.T)\n",
    "        if isToy:\n",
    "            print 'K:\\n', K\n",
    "\n",
    "        if isToy:\n",
    "            print 'isInvertible: ', isInvertible(K)\n",
    "        if isInvertible(K):\n",
    "            inv_K = np.linalg.inv(K)\n",
    "        else:\n",
    "            inv_K = np.linalg.inv(K + lamda_param * np.eye(K.shape[0]))\n",
    "        if isToy:\n",
    "            print 'inv_K:\\n', inv_K\n",
    "\n",
    "        Y_pred[idx] = k_x_xprime.T.dot(inv_K).dot(Y_train.T)\n",
    "    \n",
    "    return Y_pred"
   ]
  },
  {
   "cell_type": "code",
   "execution_count": null,
   "metadata": {},
   "outputs": [],
   "source": [
    "# This is a toy example, in this example we manually pre-calculated the results\n",
    "# and compared the results got from the code to make sure the implementation our algorithm is correct\n",
    "Y_pred = linear_kernel_predict(X_train = np.array([[1, 1], [1, 2], [1, 3]]), Y_train = np.array([2, 4, 8]), X_test = np.array([[1, 4]]), lamda_param = 1, isToy = True)\n",
    "print 'Y_pred:\\n', Y_pred"
   ]
  },
  {
   "cell_type": "markdown",
   "metadata": {},
   "source": [
    "Polynomial Kernel Method"
   ]
  },
  {
   "cell_type": "code",
   "execution_count": null,
   "metadata": {
    "collapsed": true
   },
   "outputs": [],
   "source": [
    "# k(x,x') = (gama * x.T * x' + r) ^ M\n",
    "def polynomial_kernel_predict(X_train, Y_train, X_test, gama, r, M, lamda_param, isToy):\n",
    "    N = X_train.shape[0]\n",
    "    \n",
    "    Y_pred = np.empty(X_test.shape[0])\n",
    "    \n",
    "    for idx in range(0, X_test.shape[0]):\n",
    "        # calculate k(x, x')\n",
    "        k_x_xprime = np.power(gama * X_train.dot(X_test[idx, :].T) + r, M)\n",
    "        if isToy:\n",
    "            print 'k_x_xprime:\\n', k_x_xprime\n",
    "\n",
    "        # calculate K = phi(x) * phi(x).T\n",
    "        K = np.power(gama * X_train.dot(X_train.T) + r, M)\n",
    "        if isToy:\n",
    "            print 'K:\\n', K\n",
    "\n",
    "        if isToy:\n",
    "            print 'isInvertible: ', isInvertible(K)\n",
    "        if isInvertible(K):\n",
    "            inv_K = np.linalg.inv(K)\n",
    "        else:\n",
    "            inv_K = np.linalg.inv(K + lamda_param * np.eye(K.shape[0]))\n",
    "        if isToy:\n",
    "            print 'inv_K:\\n', inv_K\n",
    "\n",
    "        Y_pred[idx] = k_x_xprime.T.dot(inv_K).dot(Y_train.T)\n",
    "    \n",
    "    return Y_pred"
   ]
  },
  {
   "cell_type": "code",
   "execution_count": null,
   "metadata": {},
   "outputs": [],
   "source": [
    "# Toy example\n",
    "Y_pred = polynomial_kernel_predict(X_train = np.array([[0, 1], [0, 2], [0, 3]]), Y_train = np.array([2, 4, 8]), X_test = np.array([[0, 4]]), gama = 1, r = 1, M = 2, lamda_param = 0, isToy = True)\n",
    "print 'Y_pred:\\n', Y_pred"
   ]
  },
  {
   "cell_type": "markdown",
   "metadata": {},
   "source": [
    "Gaussian Kernel Method"
   ]
  },
  {
   "cell_type": "code",
   "execution_count": null,
   "metadata": {
    "collapsed": true
   },
   "outputs": [],
   "source": [
    "def gaussian_kernel_predict(X_train, Y_train, X_test, sigma, lamda_param, isToy):\n",
    "    N = X_train.shape[0]\n",
    "    \n",
    "    Y_pred = np.empty(X_test.shape[0])\n",
    "  \n",
    "    for index in range(0, X_test.shape[0]):\n",
    "        # calculate k(x, x')\n",
    "        k_x_xprime = np.empty([N, 1])\n",
    "        for idx in range(0, N):\n",
    "            k_x_xprime[idx, :] = math.exp(-(np.linalg.norm(X_train[idx, :].T - X_test[index, :].T, ord = 2) ** 2) / (2 * (sigma ** 2)))\n",
    "        if isToy:\n",
    "            print 'k_x_xprime:\\n', k_x_xprime\n",
    "\n",
    "        # calculate K = phi(x) * phi(x).T\n",
    "        K = np.empty([N, N])\n",
    "        for row in range(0, N):\n",
    "            for col in range(0, N):\n",
    "                K[row, col] = math.exp(-(np.linalg.norm(X_train[row, :].T - X_train[col, :].T, ord = 2) ** 2) / (2 * (sigma ** 2)))\n",
    "        if isToy:\n",
    "            print 'K:\\n', K\n",
    "\n",
    "        if isToy:\n",
    "            print 'isInvertible: ', isInvertible(K)\n",
    "        if isInvertible(K):\n",
    "            inv_K = np.linalg.inv(K)\n",
    "        else:\n",
    "            inv_K = np.linalg.inv(K + lamda_param * np.eye(K.shape[0]))\n",
    "        if isToy:\n",
    "            print 'inv_K:\\n', inv_K\n",
    "\n",
    "        Y_pred[index] = k_x_xprime.T.dot(inv_K).dot(Y_train.T)\n",
    "    \n",
    "    return Y_pred"
   ]
  },
  {
   "cell_type": "code",
   "execution_count": null,
   "metadata": {},
   "outputs": [],
   "source": [
    "# Toy example\n",
    "Y_pred = gaussian_kernel_predict(X_train = np.array([[1, 1], [1, 2], [1, 3]]), Y_train = np.array([2, 4, 8]), X_test = np.array([[1, 4]]), sigma = 1, lamda_param = 1, isToy = True)\n",
    "print 'Y_pred:\\n', Y_pred"
   ]
  },
  {
   "cell_type": "code",
   "execution_count": null,
   "metadata": {
    "collapsed": true
   },
   "outputs": [],
   "source": [
    "# Real training process\n",
    "mse_history = {}"
   ]
  },
  {
   "cell_type": "markdown",
   "metadata": {},
   "source": [
    "Linear Kernelized Regression"
   ]
  },
  {
   "cell_type": "code",
   "execution_count": 7,
   "metadata": {},
   "outputs": [
    {
     "ename": "SyntaxError",
     "evalue": "Missing parentheses in call to 'print' (<ipython-input-7-c7d45caa7817>, line 15)",
     "traceback": [
      "\u001b[1;36m  File \u001b[1;32m\"<ipython-input-7-c7d45caa7817>\"\u001b[1;36m, line \u001b[1;32m15\u001b[0m\n\u001b[1;33m    print 'lamda = ', lamda_param, ' validate_mse_score = ', mse\u001b[0m\n\u001b[1;37m                   ^\u001b[0m\n\u001b[1;31mSyntaxError\u001b[0m\u001b[1;31m:\u001b[0m Missing parentheses in call to 'print'\n"
     ],
     "output_type": "error"
    }
   ],
   "source": [
    "best_score = 100\n",
    "best_lamda = 0\n",
    "\n",
    "linear_mse_score = []\n",
    "lamda_choices = [1e-5, 1e-4, 1e-3, 1e-2, 1e-1, 1.0]\n",
    "for lamda_param in lamda_choices:\n",
    "    Y_pred = linear_kernel_predict(X_train = X_train, Y_train = Y_train, X_test = X_validate, lamda_param = lamda_param, isToy = False)\n",
    "    mse = np.square(Y_pred - Y_validate).mean()\n",
    "    \n",
    "    if mse < best_score:\n",
    "        best_lamda = lamda_param\n",
    "        best_score = mse\n",
    "    \n",
    "    linear_mse_score.append(mse)\n",
    "    print 'lamda = ', lamda_param, ' validate_mse_score = ', mse\n",
    "\n",
    "Y_pred = linear_kernel_predict(X_train = X_train, Y_train = Y_train, X_test = X_test, lamda_param = best_lamda, isToy = False)\n",
    "test_score = np.square(Y_pred - Y_test).mean()\n",
    "print '\\nbest lamda is: ', best_lamda, ' test_mse_score = ', test_score, '\\n'\n",
    "\n",
    "mse_history['linear'] = test_score"
   ]
  },
  {
   "cell_type": "markdown",
   "metadata": {},
   "source": [
    "Polynomial Kernelized Regression"
   ]
  },
  {
   "cell_type": "code",
   "execution_count": 8,
   "metadata": {},
   "outputs": [
    {
     "ename": "SyntaxError",
     "evalue": "Missing parentheses in call to 'print' (<ipython-input-8-750f888545a7>, line 29)",
     "traceback": [
      "\u001b[1;36m  File \u001b[1;32m\"<ipython-input-8-750f888545a7>\"\u001b[1;36m, line \u001b[1;32m29\u001b[0m\n\u001b[1;33m    print 'lamda = ', lamda_param, ' gama = ', gama, ' r = ', r, ' M = ', M, ' validate_mse_score = ', mse\u001b[0m\n\u001b[1;37m                   ^\u001b[0m\n\u001b[1;31mSyntaxError\u001b[0m\u001b[1;31m:\u001b[0m Missing parentheses in call to 'print'\n"
     ],
     "output_type": "error"
    }
   ],
   "source": [
    "best_score = 100\n",
    "best_lamda = 0\n",
    "best_gama = 0\n",
    "best_r = 0\n",
    "best_M = 0\n",
    "\n",
    "linear_mse_score = []\n",
    "\n",
    "lamda_choices = [1e-5, 1e-4, 1e-3, 1e-2, 1e-1, 1.0]\n",
    "gama_choices = [1, 2, 3, 4, 5]\n",
    "r_choices = [1, 2, 3, 4, 5]\n",
    "M_choices = [-1, 0, 0.5, 1, 2, 3]\n",
    "for lamda_param in lamda_choices:\n",
    "    for gama in gama_choices:\n",
    "        for r in r_choices:\n",
    "            for M in M_choices:\n",
    "                Y_pred = polynomial_kernel_predict(X_train = X_train, Y_train = Y_train, X_test = X_validate, gama = gama, r = r, M = M, lamda_param = lamda_param, isToy = False)\n",
    "                \n",
    "                mse = np.square(Y_pred - Y_validate).mean()\n",
    "    \n",
    "                if mse < best_score:\n",
    "                    best_lamda = lamda_param\n",
    "                    best_gama = gama\n",
    "                    best_r = r\n",
    "                    best_M = M\n",
    "                    best_score = mse\n",
    "    \n",
    "                linear_mse_score.append(mse)\n",
    "                print 'lamda = ', lamda_param, ' gama = ', gama, ' r = ', r, ' M = ', M, ' validate_mse_score = ', mse\n",
    "\n",
    "Y_pred = polynomial_kernel_predict(X_train = X_train, Y_train = Y_train, X_test = X_test, gama = best_gama, r = best_r, M = best_M, lamda_param = best_lamda, isToy = False)\n",
    "test_score = np.square(Y_pred - Y_test).mean()\n",
    "print '\\nbest lamda = ', best_lamda, ' best gama = ', best_gama, ' best r = ', best_r, ' best M = ', best_M, ' test_mse_score = ', test_score, '\\n'\n",
    "\n",
    "mse_history['polynomial'] = test_score"
   ]
  },
  {
   "cell_type": "markdown",
   "metadata": {},
   "source": [
    "Gaussian Kernelized Regression"
   ]
  },
  {
   "cell_type": "code",
   "execution_count": 9,
   "metadata": {},
   "outputs": [
    {
     "ename": "SyntaxError",
     "evalue": "Missing parentheses in call to 'print' (<ipython-input-9-24f734dd8435>, line 21)",
     "traceback": [
      "\u001b[1;36m  File \u001b[1;32m\"<ipython-input-9-24f734dd8435>\"\u001b[1;36m, line \u001b[1;32m21\u001b[0m\n\u001b[1;33m    print 'lamda = ', lamda_param, ' sigma = ', sigma, ' mse_score = ', mse\u001b[0m\n\u001b[1;37m                   ^\u001b[0m\n\u001b[1;31mSyntaxError\u001b[0m\u001b[1;31m:\u001b[0m Missing parentheses in call to 'print'\n"
     ],
     "output_type": "error"
    }
   ],
   "source": [
    "best_score = 100\n",
    "best_lamda = 0\n",
    "best_sigma = 0\n",
    "\n",
    "linear_mse_score = []\n",
    "\n",
    "lamda_choices = [1e-5, 1e-4, 1e-3, 1e-2, 1e-1, 1.0]\n",
    "sigma_choices = [1e-5, 1e-4, 1e-3, 0.01, 0.1, 1, 3]\n",
    "for lamda_param in lamda_choices:\n",
    "    for sigma in sigma_choices:\n",
    "        Y_pred = gaussian_kernel_predict(X_train = X_train, Y_train = Y_train, X_test = X_validate, sigma = sigma, lamda_param = lamda_param, isToy = False)\n",
    "\n",
    "        mse = np.square(Y_pred - Y_validate).mean()\n",
    "\n",
    "        if mse < best_score:\n",
    "            best_lamda = lamda_param\n",
    "            best_sigma = sigma\n",
    "            best_score = mse\n",
    "\n",
    "        linear_mse_score.append(mse)\n",
    "        print 'lamda = ', lamda_param, ' sigma = ', sigma, ' mse_score = ', mse\n",
    "\n",
    "Y_pred = gaussian_kernel_predict(X_train = X_train, Y_train = Y_train, X_test = X_test, sigma = best_sigma, lamda_param = best_lamda, isToy = False)\n",
    "test_score = np.square(Y_pred - Y_test).mean()\n",
    "print '\\nbest lamda = ', best_lamda, ' best sigma = ', best_sigma, ' test_mse_score = ', test_score, '\\n'\n",
    "\n",
    "mse_history['gaussian'] = test_score"
   ]
  },
  {
   "cell_type": "code",
   "execution_count": 10,
   "metadata": {},
   "outputs": [
    {
     "ename": "SyntaxError",
     "evalue": "Missing parentheses in call to 'print' (<ipython-input-10-603a0f034d7b>, line 4)",
     "traceback": [
      "\u001b[1;36m  File \u001b[1;32m\"<ipython-input-10-603a0f034d7b>\"\u001b[1;36m, line \u001b[1;32m4\u001b[0m\n\u001b[1;33m    print 'Best Kernel: ', best_kernel, ' Test MSE Score: ', best_score\u001b[0m\n\u001b[1;37m                        ^\u001b[0m\n\u001b[1;31mSyntaxError\u001b[0m\u001b[1;31m:\u001b[0m Missing parentheses in call to 'print'\n"
     ],
     "output_type": "error"
    }
   ],
   "source": [
    "# Best performance across all the kernels\n",
    "best_score = min(mse_history.values()) # minimum value\n",
    "best_kernel = [k for k, v in mse_history.items() if v == best_score] # getting keys containing the minimum\n",
    "print 'Best Kernel: ', best_kernel, ' Test MSE Score: ', best_score"
   ]
  },
  {
   "cell_type": "markdown",
   "metadata": {},
   "source": [
    "Unit Test: you must display your model working on a trivial data set consisting of one or two input values and one output value (so that you can plot it in two or three dimensions). For this trivial data, you should calculate the performance measure and generate a plot to show the actual classification of new data. You are allowed to create your own data for this \"unit test\". Here, the dataset is manually created. The distribution of the dataset is a circle, y=(x1-5)^2+(x2-5)^2-3^2, if y >= 0, the data is colored for one type, if y < 0, the data is colored for another type "
   ]
  },
  {
   "cell_type": "code",
   "execution_count": 11,
   "metadata": {},
   "outputs": [
    {
     "data": {
      "text/plain": [
       "<matplotlib.collections.PathCollection at 0x1d5862aa080>"
      ]
     },
     "execution_count": 11,
     "metadata": {},
     "output_type": "execute_result"
    },
    {
     "data": {
      "image/png": "[encoded data removed]",
      "text/plain": [
       "<matplotlib.figure.Figure at 0x1d5860d22e8>"
      ]
     },
     "metadata": {},
     "output_type": "display_data"
    }
   ],
   "source": [
    "# Manually create dataset\n",
    "numDot = 300\n",
    "\n",
    "x1 = 10.0 * np.random.rand(numDot)\n",
    "x2 = 10.0 * np.random.rand(numDot)\n",
    "y = np.square(x1 - 5) + np.square(x2 - 5) - 9\n",
    "plt.scatter(x1, x2, c= (y > 0))"
   ]
  },
  {
   "cell_type": "code",
   "execution_count": 12,
   "metadata": {},
   "outputs": [
    {
     "ename": "SyntaxError",
     "evalue": "Missing parentheses in call to 'print' (<ipython-input-12-02e3e153b8a0>, line 9)",
     "traceback": [
      "\u001b[1;36m  File \u001b[1;32m\"<ipython-input-12-02e3e153b8a0>\"\u001b[1;36m, line \u001b[1;32m9\u001b[0m\n\u001b[1;33m    print X_train.shape\u001b[0m\n\u001b[1;37m                ^\u001b[0m\n\u001b[1;31mSyntaxError\u001b[0m\u001b[1;31m:\u001b[0m Missing parentheses in call to 'print'\n"
     ],
     "output_type": "error"
    }
   ],
   "source": [
    "# Split data into three parts, train, validate, and test\n",
    "num_train = int(numDot * 0.64)\n",
    "num_validate = int(numDot * 0.16)\n",
    "num_test = numDot - num_train - num_validate\n",
    "X_train = np.concatenate((np.ones([num_train, 1]), np.reshape(x1[0: num_train].T, (num_train, 1)), np.reshape(x2[0: num_train].T, (num_train, 1))), axis = 1)\n",
    "X_validate = np.concatenate((np.ones([num_validate, 1]), np.reshape(x1[num_train: num_train+num_validate].T, (num_validate, 1)), np.reshape(x2[num_train: num_train+num_validate].T, (num_validate, 1))), axis = 1)\n",
    "X_test = np.concatenate((np.ones([num_test, 1]), np.reshape(x1[num_train+num_validate: numDot].T, (num_test, 1)), np.reshape(x2[num_train+num_validate: numDot].T, (num_test, 1))), axis = 1)\n",
    "\n",
    "print X_train.shape\n",
    "print X_validate.shape\n",
    "print X_test.shape\n",
    "\n",
    "Y_train = y[0: num_train]\n",
    "Y_validate = y[num_train: num_train+num_validate]\n",
    "Y_test = y[num_train+num_validate: numDot]\n",
    "\n",
    "print Y_train.shape\n",
    "print Y_validate.shape\n",
    "print Y_test.shape"
   ]
  },
  {
   "cell_type": "markdown",
   "metadata": {},
   "source": [
    "From the distribution of data, we can easily find that the data is distributed in a circle. So, we consider polynomial kernelized regression as an example. The implementation of other kernels are already done in the previous dataset experiment."
   ]
  },
  {
   "cell_type": "markdown",
   "metadata": {},
   "source": [
    "Polynomial Kernelized Regression"
   ]
  },
  {
   "cell_type": "code",
   "execution_count": 13,
   "metadata": {},
   "outputs": [
    {
     "ename": "SyntaxError",
     "evalue": "Missing parentheses in call to 'print' (<ipython-input-13-e4879df0a9b2>, line 26)",
     "traceback": [
      "\u001b[1;36m  File \u001b[1;32m\"<ipython-input-13-e4879df0a9b2>\"\u001b[1;36m, line \u001b[1;32m26\u001b[0m\n\u001b[1;33m    print 'lamda = ', lamda_param, ' gama = ', gama, ' r = ', r, ' M = ', M, ' validate_mse = ', mse\u001b[0m\n\u001b[1;37m                   ^\u001b[0m\n\u001b[1;31mSyntaxError\u001b[0m\u001b[1;31m:\u001b[0m Missing parentheses in call to 'print'\n"
     ],
     "output_type": "error"
    }
   ],
   "source": [
    "best_mse = 1e9\n",
    "best_lamda = 0\n",
    "best_gama = 0\n",
    "best_r = 0\n",
    "best_M = 0\n",
    "\n",
    "lamda_choices = [1e-7, 1e-6, 1e-5, 1e-4, 1e-3, 1e-2, 1e-1]\n",
    "gama_choices = [1]\n",
    "r_choices = [1, 2]\n",
    "M_choices = [2]\n",
    "for lamda_param in lamda_choices:\n",
    "    for gama in gama_choices:\n",
    "        for r in r_choices:\n",
    "            for M in M_choices:\n",
    "                Y_pred = polynomial_kernel_predict(X_train = X_train, Y_train = Y_train, X_test = X_validate, gama = gama, r = r, M = M, lamda_param = lamda_param, isToy = False)\n",
    "                \n",
    "                mse = np.square(Y_pred - Y_validate).mean()\n",
    "    \n",
    "                if mse < best_mse:\n",
    "                    best_lamda = lamda_param\n",
    "                    best_gama = gama\n",
    "                    best_r = r\n",
    "                    best_M = M\n",
    "                    best_mse = mse\n",
    "    \n",
    "                print 'lamda = ', lamda_param, ' gama = ', gama, ' r = ', r, ' M = ', M, ' validate_mse = ', mse\n",
    "\n",
    "Y_pred = polynomial_kernel_predict(X_train = X_train, Y_train = Y_train, X_test = X_test, gama = best_gama, r = best_r, M = best_M, lamda_param = best_lamda, isToy = False)\n",
    "Y_pred_bin = (Y_pred > 0)\n",
    "Y_test_bin = (Y_test > 0)\n",
    "test_accuracy = (Y_pred_bin == Y_test_bin).mean()\n",
    "print '\\nbest lamda = ', best_lamda, ' best gama = ', best_gama, ' best r = ', best_r, ' best M = ', best_M, ' test_accuracy = ', test_accuracy, '\\n'\n",
    "\n",
    "plt.scatter(X_test[:, 1], X_test[:, 2], c = (Y_test > 0))\n",
    "plt.title('Actual Data Distribution')\n",
    "plt.figure()\n",
    "plt.scatter(X_test[:, 1], X_test[:, 2], c = (Y_pred > 0))\n",
    "plt.title('Predicted Data Distribution')"
   ]
  },
  {
   "cell_type": "code",
   "execution_count": null,
   "metadata": {
    "collapsed": true
   },
   "outputs": [],
   "source": []
  },
  {
   "cell_type": "code",
   "execution_count": null,
   "metadata": {
    "collapsed": true
   },
   "outputs": [],
   "source": []
  }
 ],
 "metadata": {
  "kernelspec": {
   "display_name": "Python 3",
   "language": "python",
   "name": "python3"
  },
  "language_info": {
   "codemirror_mode": {
    "name": "ipython",
    "version": 3
   },
   "file_extension": ".py",
   "mimetype": "text/x-python",
   "name": "python",
   "nbconvert_exporter": "python",
   "pygments_lexer": "ipython3",
   "version": "3.6.2"
  }
 },
 "nbformat": 4,
 "nbformat_minor": 2
}
